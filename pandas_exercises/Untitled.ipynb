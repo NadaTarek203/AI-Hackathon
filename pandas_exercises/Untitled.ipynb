{
 "cells": [
  {
   "cell_type": "code",
   "execution_count": 1,
   "id": "083fe898",
   "metadata": {},
   "outputs": [
    {
     "name": "stdout",
     "output_type": "stream",
     "text": [
      "1\n"
     ]
    }
   ],
   "source": [
    "x=input()"
   ]
  },
  {
   "cell_type": "code",
   "execution_count": null,
   "id": "7b5fdcc1",
   "metadata": {},
   "outputs": [],
   "source": []
  },
  {
   "cell_type": "code",
   "execution_count": 2,
   "id": "b850bf37",
   "metadata": {},
   "outputs": [
    {
     "data": {
      "text/plain": [
       "str"
      ]
     },
     "execution_count": 2,
     "metadata": {},
     "output_type": "execute_result"
    }
   ],
   "source": [
    "type(x)"
   ]
  },
  {
   "cell_type": "code",
   "execution_count": 3,
   "id": "46712443",
   "metadata": {},
   "outputs": [],
   "source": [
    "y = int(x)"
   ]
  },
  {
   "cell_type": "code",
   "execution_count": 4,
   "id": "cb16719e",
   "metadata": {},
   "outputs": [
    {
     "data": {
      "text/plain": [
       "int"
      ]
     },
     "execution_count": 4,
     "metadata": {},
     "output_type": "execute_result"
    }
   ],
   "source": [
    "type(y)"
   ]
  },
  {
   "cell_type": "code",
   "execution_count": 5,
   "id": "3f4de920",
   "metadata": {},
   "outputs": [
    {
     "name": "stdout",
     "output_type": "stream",
     "text": [
      "Python 3.9.12\n"
     ]
    }
   ],
   "source": [
    "! python --version"
   ]
  },
  {
   "cell_type": "code",
   "execution_count": 6,
   "id": "52280fcc",
   "metadata": {},
   "outputs": [],
   "source": [
    "string=\"nada\""
   ]
  },
  {
   "cell_type": "code",
   "execution_count": 7,
   "id": "8724e90c",
   "metadata": {},
   "outputs": [
    {
     "data": {
      "text/plain": [
       "'Nada'"
      ]
     },
     "execution_count": 7,
     "metadata": {},
     "output_type": "execute_result"
    }
   ],
   "source": [
    "string.capitalize()"
   ]
  },
  {
   "cell_type": "code",
   "execution_count": 8,
   "id": "7ad5f43c",
   "metadata": {},
   "outputs": [
    {
     "name": "stdout",
     "output_type": "stream",
     "text": [
      "Requirement already satisfied: maskpass in c:\\users\\nada\\anaconda3\\lib\\site-packages (0.3.6)\n",
      "Requirement already satisfied: pynput in c:\\users\\nada\\anaconda3\\lib\\site-packages (from maskpass) (1.7.6)\n",
      "Requirement already satisfied: six in c:\\users\\nada\\anaconda3\\lib\\site-packages (from pynput->maskpass) (1.16.0)\n",
      "Note: you may need to restart the kernel to use updated packages.\n"
     ]
    }
   ],
   "source": [
    "pip install maskpass"
   ]
  },
  {
   "cell_type": "code",
   "execution_count": 9,
   "id": "6ebfb425",
   "metadata": {},
   "outputs": [],
   "source": [
    "import maskpass"
   ]
  },
  {
   "cell_type": "code",
   "execution_count": null,
   "id": "3ab259c8",
   "metadata": {},
   "outputs": [],
   "source": [
    "pwd = maskpass.askpass(prompt=\"Password:\", mask=\"#\")\n"
   ]
  },
  {
   "cell_type": "code",
   "execution_count": null,
   "id": "86ae8077",
   "metadata": {},
   "outputs": [],
   "source": [
    "print(pwd)"
   ]
  },
  {
   "cell_type": "code",
   "execution_count": null,
   "id": "0609a73b",
   "metadata": {},
   "outputs": [],
   "source": []
  }
 ],
 "metadata": {
  "kernelspec": {
   "display_name": "Python 3 (ipykernel)",
   "language": "python",
   "name": "python3"
  },
  "language_info": {
   "codemirror_mode": {
    "name": "ipython",
    "version": 3
   },
   "file_extension": ".py",
   "mimetype": "text/x-python",
   "name": "python",
   "nbconvert_exporter": "python",
   "pygments_lexer": "ipython3",
   "version": "3.9.12"
  }
 },
 "nbformat": 4,
 "nbformat_minor": 5
}
