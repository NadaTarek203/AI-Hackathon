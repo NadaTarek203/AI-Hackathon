{
 "cells": [
  {
   "attachments": {},
   "cell_type": "markdown",
   "id": "9e360efc",
   "metadata": {},
   "source": []
  },
  {
   "attachments": {},
   "cell_type": "markdown",
   "id": "a5593fc9",
   "metadata": {},
   "source": []
  },
  {
   "cell_type": "code",
   "execution_count": 3,
   "id": "1bf11622",
   "metadata": {},
   "outputs": [],
   "source": [
    "x=5"
   ]
  },
  {
   "cell_type": "code",
   "execution_count": 4,
   "id": "6ba38796",
   "metadata": {},
   "outputs": [],
   "source": [
    "y=4.5"
   ]
  },
  {
   "cell_type": "code",
   "execution_count": 7,
   "id": "e1237e72",
   "metadata": {},
   "outputs": [],
   "source": [
    "flag=True"
   ]
  },
  {
   "cell_type": "code",
   "execution_count": null,
   "id": "68187a86",
   "metadata": {},
   "outputs": [],
   "source": [
    "input(x)"
   ]
  },
  {
   "cell_type": "code",
   "execution_count": null,
   "id": "33c91679",
   "metadata": {},
   "outputs": [],
   "source": [
    "3"
   ]
  },
  {
   "cell_type": "code",
   "execution_count": null,
   "id": "1a20dc3e",
   "metadata": {},
   "outputs": [],
   "source": []
  }
 ],
 "metadata": {
  "kernelspec": {
   "display_name": "Python 3 (ipykernel)",
   "language": "python",
   "name": "python3"
  },
  "language_info": {
   "codemirror_mode": {
    "name": "ipython",
    "version": 3
   },
   "file_extension": ".py",
   "mimetype": "text/x-python",
   "name": "python",
   "nbconvert_exporter": "python",
   "pygments_lexer": "ipython3",
   "version": "3.9.12"
  }
 },
 "nbformat": 4,
 "nbformat_minor": 5
}
