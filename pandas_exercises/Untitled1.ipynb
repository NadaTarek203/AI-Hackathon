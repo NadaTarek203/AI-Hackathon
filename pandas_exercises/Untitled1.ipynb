{
 "cells": [
  {
   "attachments": {},
   "cell_type": "markdown",
   "id": "1fa7cbd3",
   "metadata": {},
   "source": []
  },
  {
   "attachments": {},
   "cell_type": "markdown",
   "id": "a1ff23dd",
   "metadata": {},
   "source": []
  },
  {
   "cell_type": "code",
   "execution_count": 3,
   "id": "fd670588",
   "metadata": {},
   "outputs": [],
   "source": [
    "x=5"
   ]
  },
  {
   "cell_type": "code",
   "execution_count": 4,
   "id": "ba670759",
   "metadata": {},
   "outputs": [],
   "source": [
    "y=4.5"
   ]
  },
  {
   "cell_type": "code",
   "execution_count": 7,
   "id": "a2805668",
   "metadata": {},
   "outputs": [],
   "source": [
    "flag=True"
   ]
  },
  {
   "cell_type": "code",
   "execution_count": null,
   "id": "5529c4b2",
   "metadata": {},
   "outputs": [],
   "source": [
    "x=input()"
   ]
  },
  {
   "cell_type": "code",
   "execution_count": null,
   "id": "ff130d5c",
   "metadata": {},
   "outputs": [],
   "source": [
    "3"
   ]
  },
  {
   "cell_type": "code",
   "execution_count": null,
   "id": "d91296c2",
   "metadata": {},
   "outputs": [],
   "source": [
    "type(x)"
   ]
  },
  {
   "cell_type": "code",
   "execution_count": null,
   "id": "9efcbac2",
   "metadata": {},
   "outputs": [],
   "source": []
  }
 ],
 "metadata": {
  "kernelspec": {
   "display_name": "Python 3 (ipykernel)",
   "language": "python",
   "name": "python3"
  },
  "language_info": {
   "codemirror_mode": {
    "name": "ipython",
    "version": 3
   },
   "file_extension": ".py",
   "mimetype": "text/x-python",
   "name": "python",
   "nbconvert_exporter": "python",
   "pygments_lexer": "ipython3",
   "version": "3.9.12"
  }
 },
 "nbformat": 4,
 "nbformat_minor": 5
}
